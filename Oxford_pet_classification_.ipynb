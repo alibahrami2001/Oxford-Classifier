{
  "cells": [
    {
      "cell_type": "markdown",
      "metadata": {},
      "source": [
        "# Oxford Pet Classification"
      ]
    },
    {
      "cell_type": "code",
      "execution_count": null,
      "metadata": {
        "colab": {
          "base_uri": "https://localhost:8080/"
        },
        "id": "1fSpKOe2ijP2",
        "outputId": "5ef3edad-992b-4151-eda2-2e77d8110497"
      },
      "outputs": [],
      "source": [
        "!wget http://www.robots.ox.ac.uk/~vgg/data/pets/data/images.tar.gz  -P /content --no-check-certificate\n",
        "!wget http://www.robots.ox.ac.uk/~vgg/data/pets/data/annotations.tar.gz  -P /content --no-check-certificate"
      ]
    },
    {
      "cell_type": "code",
      "execution_count": null,
      "metadata": {
        "colab": {
          "base_uri": "https://localhost:8080/"
        },
        "collapsed": true,
        "id": "vqQLXBymjo_K",
        "outputId": "9d3e4677-38c9-4faf-8004-63e7fd393dc3"
      },
      "outputs": [],
      "source": [
        "%cd /content\n",
        "\n",
        "!tar -C /content -xvf /content/images.tar.gz\n",
        "!tar -C /content -xvf /content/annotations.tar.gz"
      ]
    },
    {
      "cell_type": "code",
      "execution_count": null,
      "metadata": {
        "colab": {
          "base_uri": "https://localhost:8080/"
        },
        "id": "Ibccx1NHjRZt",
        "outputId": "57ef9819-e31d-4876-c916-ae764c7ad56b"
      },
      "outputs": [],
      "source": [
        "!pwd"
      ]
    },
    {
      "cell_type": "code",
      "execution_count": null,
      "metadata": {
        "id": "NQZEVC6AlQbT"
      },
      "outputs": [],
      "source": [
        "from collections import Counter\n",
        "from pathlib import Path\n",
        "from string import ascii_lowercase, ascii_uppercase\n",
        "\n",
        "import matplotlib.pyplot as plt\n",
        "import torch\n",
        "from PIL import Image\n",
        "from torch import nn, optim\n",
        "from torch.utils.data import DataLoader, Dataset, random_split\n",
        "from torchvision import transforms\n",
        "from tqdm import tqdm\n",
        "from sklearn.metrics import classification_report"
      ]
    },
    {
      "cell_type": "code",
      "execution_count": null,
      "metadata": {
        "colab": {
          "base_uri": "https://localhost:8080/"
        },
        "id": "nvhx8uvJlXuR",
        "outputId": "861b0ccc-964b-4f4d-ae06-8313eaee92d6"
      },
      "outputs": [],
      "source": [
        "torch.cuda.is_available()"
      ]
    },
    {
      "cell_type": "code",
      "execution_count": null,
      "metadata": {
        "colab": {
          "base_uri": "https://localhost:8080/",
          "height": 470
        },
        "id": "lmRi5fMlmuFr",
        "outputId": "da515058-e660-4869-ed97-a07d779def8a"
      },
      "outputs": [],
      "source": [
        "root = Path(\"/content\")\n",
        "images_dir = root / \"images\"\n",
        "# All images with 1st letter as captial are cat images\n",
        "# images with small first letter are dog images\n",
        "jpgs = sorted(list(images_dir.glob(\"*.jpg\")))\n",
        "print(len(jpgs))\n",
        "labels = []\n",
        "for j in jpgs:\n",
        "    first_letter = j.name[0]\n",
        "    if first_letter in ascii_lowercase:\n",
        "        labels.append(\"dog\")\n",
        "    else:\n",
        "        labels.append(\"cat\")\n",
        "label_to_id = {\"cat\": 0, \"dog\": 1}\n",
        "id_to_label = {0: \"cat\", 1: \"dog\"}\n",
        "\n",
        "labels_count = Counter(labels)\n",
        "plt.title(\"Labels Frequency\")\n",
        "plt.bar(labels_count.keys(), labels_count.values(), color=\"seagreen\")\n",
        "plt.show()"
      ]
    },
    {
      "cell_type": "code",
      "execution_count": null,
      "metadata": {
        "id": "17j6JBx-mzjR"
      },
      "outputs": [],
      "source": [
        "image_transform = transforms.Compose(\n",
        "    [\n",
        "        transforms.Resize((256, 256)),\n",
        "        transforms.ToTensor(),\n",
        "    ]\n",
        ")"
      ]
    },
    {
      "cell_type": "code",
      "execution_count": null,
      "metadata": {
        "id": "oBE_FA8vm2-k"
      },
      "outputs": [],
      "source": [
        "class OxfordDataset(Dataset):\n",
        "    def __init__(self, image_paths, labels, label_to_id, image_transform):\n",
        "        self.image_paths = image_paths\n",
        "        self.labels = labels\n",
        "        self.label_to_id = label_to_id\n",
        "        self.image_transform = image_transform\n",
        "\n",
        "    def __len__(self):\n",
        "        return len(self.image_paths)\n",
        "\n",
        "    def __getitem__(self, idx):\n",
        "        img = Image.open(self.image_paths[idx]).convert(\"RGB\")\n",
        "        lbl = self.labels[idx]\n",
        "        lbl_id = self.label_to_id[lbl]\n",
        "        img_tsr = self.image_transform(img)\n",
        "        lbl_tsr = torch.tensor(lbl_id, dtype=torch.long)\n",
        "        return img_tsr, lbl_tsr\n",
        "\n",
        "\n",
        "dataset = OxfordDataset(jpgs, labels, label_to_id, image_transform)\n",
        "train_dataset, test_dataset = random_split(\n",
        "    dataset,\n",
        "    [0.8, 0.2],\n",
        "    torch.Generator().manual_seed(42),\n",
        ")\n",
        "batch_size = 512\n",
        "train_loader = DataLoader(\n",
        "    train_dataset,\n",
        "    batch_size=batch_size,\n",
        "    shuffle=True,\n",
        "    num_workers=2,\n",
        ")\n",
        "test_loader = DataLoader(\n",
        "    test_dataset,\n",
        "    batch_size=batch_size,\n",
        "    shuffle=False,\n",
        "    num_workers=2,\n",
        ")"
      ]
    },
    {
      "cell_type": "markdown",
      "metadata": {
        "id": "MXSLqQCJszOZ"
      },
      "source": [
        "-> CONV/FC -> BatchNorm -> ReLu(or other activation) -> Dropout -> CONV/FC ->"
      ]
    },
    {
      "cell_type": "code",
      "execution_count": null,
      "metadata": {
        "colab": {
          "base_uri": "https://localhost:8080/"
        },
        "id": "TA8gAEtim9-Y",
        "outputId": "9b85e70e-60a7-4f3a-da97-eea20a2f668b"
      },
      "outputs": [],
      "source": [
        "class ConvBlock(nn.Module):\n",
        "    def __init__(self, in_channels, out_channels):\n",
        "        super().__init__()\n",
        "\n",
        "        self.conv = nn.Conv2d(\n",
        "            in_channels, out_channels, kernel_size=3, stride=1, padding=1\n",
        "        )\n",
        "        self.norm = nn.BatchNorm2d(out_channels)\n",
        "        self.relu = nn.ReLU()\n",
        "        self.dropout = nn.Dropout2d(0.1)\n",
        "        self.pool = nn.MaxPool2d(2)\n",
        "\n",
        "    def forward(self, x):\n",
        "        x = self.conv(x)\n",
        "        x = self.norm(x)\n",
        "        x = self.relu(x)\n",
        "        x = self.dropout(x)\n",
        "        x = self.pool(x)\n",
        "        return x\n",
        "\n",
        "\n",
        "model = nn.Sequential(\n",
        "    ConvBlock(3, 8),\n",
        "    ConvBlock(8, 16),\n",
        "    ConvBlock(16, 32),\n",
        "    ConvBlock(32, 64),\n",
        "    ConvBlock(64, 128),\n",
        "    ConvBlock(128, 256),\n",
        "    ConvBlock(256,512),\n",
        "\n",
        "    nn.AdaptiveAvgPool2d((1, 1)),\n",
        "    nn.Flatten(),\n",
        "    nn.Linear(512, 2),\n",
        ")\n",
        "device = \"cuda\" if torch.cuda.is_available() else \"cpu\"\n",
        "print(f\"{device=}\")\n",
        "model = model.to(device)\n",
        "criterion = nn.CrossEntropyLoss()\n",
        "optimizer = optim.Adam(model.parameters(), lr=3e-4, weight_decay=1e-5)"
      ]
    },
    {
      "cell_type": "markdown",
      "metadata": {
        "id": "eaER_46jopYG"
      },
      "source": []
    },
    {
      "cell_type": "code",
      "execution_count": null,
      "metadata": {
        "colab": {
          "base_uri": "https://localhost:8080/",
          "height": 1000
        },
        "id": "BkAbYaevnctN",
        "outputId": "b3106562-70c7-42c8-e0e9-b62405577e05"
      },
      "outputs": [],
      "source": [
        "best_eval_loss = float(\"inf\")\n",
        "for epoch in range(100):\n",
        "    loss_sum = 0.0\n",
        "    counter = 0\n",
        "    model.train()\n",
        "    pbar = tqdm(train_loader, desc=f\"Training Epoch {epoch}\")\n",
        "    for batch in pbar:\n",
        "        x, y = batch\n",
        "        x = x.to(device)\n",
        "        y = y.to(device)\n",
        "        logits = model(x)\n",
        "        loss = criterion(logits, y)\n",
        "        optimizer.zero_grad()\n",
        "        loss.backward()\n",
        "        optimizer.step()\n",
        "\n",
        "        loss_sum += loss.item()\n",
        "        counter += 1\n",
        "        mean_train_loss = loss_sum / counter\n",
        "\n",
        "        pbar.set_postfix({\"mean_loss\": mean_train_loss})\n",
        "\n",
        "    loss_sum = 0.0\n",
        "    counter = 0\n",
        "    model.eval()\n",
        "    pbar = tqdm(test_loader, desc=f\"Evaluating Epoch {epoch}\")\n",
        "    y_true = []\n",
        "    y_pred = []\n",
        "    for batch in pbar:\n",
        "        with torch.no_grad():\n",
        "            x, y = batch\n",
        "            x = x.to(device)\n",
        "            y = y.to(device)\n",
        "            logits = model(x)\n",
        "            preds = logits.argmax(dim=1)\n",
        "            y_true.extend(y.tolist())\n",
        "            y_pred.extend(preds.tolist())\n",
        "\n",
        "        loss = criterion(logits, y)\n",
        "\n",
        "        loss_sum += loss.item()\n",
        "        counter += 1\n",
        "        mean_eval_loss = loss_sum / counter\n",
        "\n",
        "        pbar.set_postfix({\"mean_loss\": mean_eval_loss})\n",
        "\n",
        "    if mean_eval_loss < best_eval_loss:\n",
        "        best_eval_loss = mean_eval_loss\n",
        "        torch.save(model.state_dict(), \"oxford_cat_dog_best.pt\")\n",
        "\n",
        "    print(\"Evaluation Classification Report\")\n",
        "    print(classification_report(y_true, y_pred))\n",
        "\n",
        "    print(\"#\" * 88)\n",
        "\n",
        "model.eval()\n",
        "torch.save(model.state_dict(), \"oxford_cat_dog_last.pt\")"
      ]
    }
  ],
  "metadata": {
    "accelerator": "GPU",
    "colab": {
      "gpuType": "T4",
      "provenance": []
    },
    "kernelspec": {
      "display_name": "Python 3",
      "name": "python3"
    },
    "language_info": {
      "name": "python"
    }
  },
  "nbformat": 4,
  "nbformat_minor": 0
}
